{
 "cells": [
  {
   "cell_type": "code",
   "execution_count": 9,
   "metadata": {},
   "outputs": [
    {
     "name": "stdout",
     "output_type": "stream",
     "text": [
      "세계 코로나 확진자 월별 수\n",
      "1월 확진자 수 : 9837\n",
      "2월 확진자 수 : 77761\n",
      "3월 확진자 수 : 782964\n",
      "4월 확진자 수 : 2316880\n",
      "5월 확진자 수 : 2908411\n",
      "6월 확진자 수 : 4292106\n",
      "7월 확진자 수 : 7157881\n",
      "8월 확진자 수 : 7969196\n",
      "9월 확진자 수 : 8483507\n",
      "10월 확진자 수 : 12115117\n",
      "11월 확진자 수 : 17164111\n",
      "12월 확진자 수 : 20063887\n"
     ]
    }
   ],
   "source": [
    "import csv\n",
    "import matplotlib.pyplot as plt\n",
    "import numpy as np\n",
    "\n",
    "print('세계 코로나 확진자 월별 수')\n",
    "\n",
    "c = open('세계 코로나.csv', encoding = 'cp949')\n",
    "data = csv.reader(c)\n",
    "header = next(data)\n",
    "\n",
    "for i in data:\n",
    "    if '1월 31일' in i[0]:\n",
    "        a = int(i[1])\n",
    "        w1 = a\n",
    "        print('1월 확진자 수 : %d' % w1)\n",
    "    elif '2월 29일' in i[0]:\n",
    "        a2 = int(i[1])\n",
    "        w2 = (a2-a)\n",
    "        print('2월 확진자 수 : %d' % w2)\n",
    "    elif '3월 31일' in i[0]:\n",
    "        a3 = int(i[1])\n",
    "        w3 = (a3-a2)\n",
    "        print('3월 확진자 수 : %d' % w3)\n",
    "    elif '4월 30일' in i[0]:\n",
    "        a4 = int(i[1])\n",
    "        w4 = (a4-a3)\n",
    "        print('4월 확진자 수 : %d' % w4)\n",
    "    elif '5월 31일' in i[0]:\n",
    "        a5 = int(i[1])\n",
    "        w5 = (a5-a4)\n",
    "        print('5월 확진자 수 : %d' % w5)\n",
    "    elif '6월 30일' in i[0]:\n",
    "        a6 = int(i[1])\n",
    "        w6 = (a6-a5)\n",
    "        print('6월 확진자 수 : %d' % w6)\n",
    "    elif '7월 31일' in i[0]:\n",
    "        a7 = int(i[1])\n",
    "        w7 = (a7-a6)\n",
    "        print('7월 확진자 수 : %d' % w7)\n",
    "    elif '8월 31일' in i[0]:\n",
    "        a8 = int(i[1])\n",
    "        w8 = (a8-a7)\n",
    "        print('8월 확진자 수 : %d' % w8)\n",
    "    elif '9월 30일' in i[0]:\n",
    "        a9 = int(i[1])\n",
    "        w9 = (a9-a8)\n",
    "        print('9월 확진자 수 : %d' % w9)\n",
    "    elif '10월 31일' in i[0]:\n",
    "        a10 = int(i[1])\n",
    "        w10 = (a10-a9)\n",
    "        print('10월 확진자 수 : %d' % w10)\n",
    "    elif '11월 30일' in i[0]:\n",
    "        a11 = int(i[1])\n",
    "        w11 = (a11-a10)\n",
    "        print('11월 확진자 수 : %d' % w11)\n",
    "    elif '12월 31일' in i[0]:\n",
    "        a12 = int(i[1])\n",
    "        w12 = (a12-a11)\n",
    "        print('12월 확진자 수 : %d' % w12)"
   ]
  }
 ],
 "metadata": {
  "kernelspec": {
   "display_name": "Python 3",
   "language": "python",
   "name": "python3"
  },
  "language_info": {
   "codemirror_mode": {
    "name": "ipython",
    "version": 3
   },
   "file_extension": ".py",
   "mimetype": "text/x-python",
   "name": "python",
   "nbconvert_exporter": "python",
   "pygments_lexer": "ipython3",
   "version": "3.8.3"
  }
 },
 "nbformat": 4,
 "nbformat_minor": 4
}
