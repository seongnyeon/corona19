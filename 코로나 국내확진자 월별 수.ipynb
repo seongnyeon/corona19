{
 "cells": [
  {
   "cell_type": "code",
   "execution_count": 74,
   "metadata": {},
   "outputs": [
    {
     "name": "stdout",
     "output_type": "stream",
     "text": [
      "국내 코로나 확진자 월별 수\n",
      "1월 확진자 수 : 11\n",
      "2월 확진자 수 : 3139\n",
      "3월 확진자 수 : 6636\n",
      "4월 확진자 수 : 979\n",
      "5월 확진자 수 : 703\n",
      "6월 확진자 수 : 1331\n",
      "7월 확진자 수 : 1506\n",
      "8월 확진자 수 : 5642\n",
      "9월 확진자 수 : 3865\n",
      "10월 확진자 수 : 2699\n",
      "11월 확진자 수 : 7688\n",
      "12월 확진자 수 : 26528\n"
     ]
    }
   ],
   "source": [
    "import csv\n",
    "import matplotlib.pyplot as plt\n",
    "import numpy as np\n",
    "\n",
    "print('국내 코로나 확진자 월별 수')\n",
    "\n",
    "c = open('국내 코로나.csv', encoding = 'cp949')\n",
    "data = csv.reader(c)\n",
    "header = next(data)\n",
    "\n",
    "for i in data:\n",
    "    if '20200131' in i[0]:\n",
    "        a = int(i[1])\n",
    "        c1 = a\n",
    "        print('1월 확진자 수 : %d' % c1)\n",
    "    elif '20200229' in i[0]:\n",
    "        a2 = int(i[1])\n",
    "        c2 = (a2-a)\n",
    "        print('2월 확진자 수 : %d' % c2)\n",
    "\n",
    "    elif '20200331' in i[0]:\n",
    "        a3 = int(i[1])\n",
    "        c3 = (a3-a2)\n",
    "        print('3월 확진자 수 : %d' % c3)\n",
    "    elif '20200430' in i[0]:\n",
    "        a4 = int(i[1])\n",
    "        c4 = (a4-a3)\n",
    "        print('4월 확진자 수 : %d' % c4)\n",
    "    elif '20200531' in i[0]:\n",
    "        a5 = int(i[1])\n",
    "        c5 = (a5-a4)\n",
    "        print('5월 확진자 수 : %d' % c5)\n",
    "    elif '20200630' in i[0]:\n",
    "        a6 = int(i[1])\n",
    "        c6 = (a6-a5)\n",
    "        print('6월 확진자 수 : %d' % c6)\n",
    "    elif '20200731' in i[0]:\n",
    "        a7 = int(i[1])\n",
    "        c7= (a7-a6)\n",
    "        print('7월 확진자 수 : %d' % c7)\n",
    "    elif '20200831' in i[0]:\n",
    "        a8 = int(i[1])\n",
    "        c8 = (a8-a7)\n",
    "        print('8월 확진자 수 : %d' % c8)\n",
    "    elif '20200930' in i[0]:\n",
    "        a9 = int(i[1])\n",
    "        c9 = (a9-a8)\n",
    "        print('9월 확진자 수 : %d' % c9)\n",
    "    elif '20201031' in i[0]:\n",
    "        a10 = int(i[1])\n",
    "        c10 = (a10-a9)\n",
    "        print('10월 확진자 수 : %d' % c10)\n",
    "    elif '20201130' in i[0]:\n",
    "        a11 = int(i[1])\n",
    "        c11 = (a11-a10)\n",
    "        print('11월 확진자 수 : %d' % c11)\n",
    "    elif '20201231' in i[0]:\n",
    "        a12 = int(i[1])\n",
    "        c12 = (a12-a11)\n",
    "        print('12월 확진자 수 : %d' % c12)"
   ]
  }
 ],
 "metadata": {
  "kernelspec": {
   "display_name": "Python 3",
   "language": "python",
   "name": "python3"
  },
  "language_info": {
   "codemirror_mode": {
    "name": "ipython",
    "version": 3
   },
   "file_extension": ".py",
   "mimetype": "text/x-python",
   "name": "python",
   "nbconvert_exporter": "python",
   "pygments_lexer": "ipython3",
   "version": "3.8.3"
  }
 },
 "nbformat": 4,
 "nbformat_minor": 4
}
